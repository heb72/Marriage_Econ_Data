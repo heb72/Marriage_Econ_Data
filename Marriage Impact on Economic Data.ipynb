{
 "cells": [
  {
   "cell_type": "code",
   "execution_count": 2,
   "metadata": {},
   "outputs": [],
   "source": [
    "import pandas as pd\n",
    "import numpy as np\n",
    "import matplotlib.pyplot as plt"
   ]
  },
  {
   "cell_type": "code",
   "execution_count": 5,
   "metadata": {},
   "outputs": [
    {
     "name": "stdout",
     "output_type": "stream",
     "text": [
      "   Year  Household Disposable Income Annual Growth Rate (%)  \\\n",
      "0  2008                                           1.157766    \n",
      "1  2009                                           0.222075    \n",
      "2  2010                                           1.864026    \n",
      "3  2011                                           2.134767    \n",
      "4  2012                                           3.153628    \n",
      "\n",
      "   Household Savings (% of Household Disposable Income)  \\\n",
      "0                                           5.179323      \n",
      "1                                           6.342366      \n",
      "2                                           6.780292      \n",
      "3                                           7.395789      \n",
      "4                                           9.142739      \n",
      "\n",
      "   Household Net Worth (% of Household Disposable Income)  \\\n",
      "0                                           467.9560        \n",
      "1                                           493.9625        \n",
      "2                                           519.3878        \n",
      "3                                           507.8844        \n",
      "4                                           521.7365        \n",
      "\n",
      "   Household Debt (% of Household Disposable Income)  \\\n",
      "0                                           136.8502   \n",
      "1                                           135.8499   \n",
      "2                                           128.6913   \n",
      "3                                           121.4203   \n",
      "4                                           114.6946   \n",
      "\n",
      "   Household Spending Annual Growth Rate (%)  \n",
      "0                                  -0.212023  \n",
      "1                                  -1.254310  \n",
      "2                                   1.749623  \n",
      "3                                   1.887169  \n",
      "4                                   1.503002  \n"
     ]
    }
   ],
   "source": [
    "Econ = pd.read_excel(\"Econ_Data2.xlsx\")\n",
    "#Clean Dataset\n",
    "print(Econ.head())\n",
    "Econ.to_csv('Econ_Data2.csv', index = False)"
   ]
  },
  {
   "cell_type": "code",
   "execution_count": 23,
   "metadata": {},
   "outputs": [
    {
     "name": "stdout",
     "output_type": "stream",
     "text": [
      "    Year  Number of Marriages  Marriage Rate (Per 1,000 Population)  \\\n",
      "0   2008              2157000                                   7.1   \n",
      "1   2009              2080000                                   6.8   \n",
      "2   2010              2096000                                   6.8   \n",
      "3   2011              2118000                                   6.8   \n",
      "4   2012              2131000                                   6.8   \n",
      "5   2013              2081301                                   6.8   \n",
      "6   2014              2140272                                   6.9   \n",
      "7   2015              2221579                                   6.9   \n",
      "8   2016              2251411                                   7.0   \n",
      "9   2017              2236496                                   6.9   \n",
      "10  2018              2132853                                   6.5   \n",
      "\n",
      "    Number of Divorces  Divorce Rate (Per 1,000 Population)  \n",
      "0               844000                                  3.5  \n",
      "1               840000                                  3.5  \n",
      "2               872000                                  3.6  \n",
      "3               877000                                  3.6  \n",
      "4               851000                                  3.4  \n",
      "5               832157                                  3.3  \n",
      "6               813862                                  3.2  \n",
      "7               800909                                  3.1  \n",
      "8               776288                                  3.0  \n",
      "9               787251                                  2.9  \n",
      "10              782038                                  2.9  \n"
     ]
    }
   ],
   "source": [
    "Marriage = pd.read_excel(\"Men_Marriage.xls\")\n",
    "Marriage = Marriage.iloc[:len(Marriage) - 1]\n",
    "#Clean Dataset\n",
    "print(Marriage)\n",
    "Marriage.to_csv('Marriage_Data.csv', index = False)"
   ]
  },
  {
   "cell_type": "code",
   "execution_count": 24,
   "metadata": {},
   "outputs": [
    {
     "data": {
      "image/png": "[encoded data removed]",
      "text/plain": [
       "<Figure size 432x288 with 1 Axes>"
      ]
     },
     "metadata": {
      "needs_background": "light"
     },
     "output_type": "display_data"
    }
   ],
   "source": [
    "#Plot Marriage and Divorce Rate\n",
    "\n",
    "Marriage.plot(x = 'Year', y = ['Marriage Rate (Per 1,000 Population)', 'Divorce Rate (Per 1,000 Population)'])\n",
    "\n",
    "plt.show()"
   ]
  },
  {
   "cell_type": "code",
   "execution_count": 7,
   "metadata": {},
   "outputs": [
    {
     "data": {
      "text/plain": [
       "Index(['Year', 'Household Disposable Income Annual Growth Rate (%)',\n",
       "       'Household Savings (% of Household Disposable Income)',\n",
       "       'Household Net Worth (% of Household Disposable Income)',\n",
       "       'Household Debt (% of Household Disposable Income)',\n",
       "       'Household Spending Annual Growth Rate (%)'],\n",
       "      dtype='object')"
      ]
     },
     "execution_count": 7,
     "metadata": {},
     "output_type": "execute_result"
    }
   ],
   "source": [
    "Econ.columns"
   ]
  },
  {
   "cell_type": "code",
   "execution_count": 15,
   "metadata": {},
   "outputs": [
    {
     "data": {
      "text/plain": [
       "<matplotlib.axes._subplots.AxesSubplot at 0x7f8e4fbb1050>"
      ]
     },
     "execution_count": 15,
     "metadata": {},
     "output_type": "execute_result"
    },
    {
     "data": {
      "image/png": "[encoded data removed]",
      "text/plain": [
       "<Figure size 432x288 with 1 Axes>"
      ]
     },
     "metadata": {
      "needs_background": "light"
     },
     "output_type": "display_data"
    }
   ],
   "source": [
    "#Plot Dispoabale Income and Spending Growth\n",
    "Econ.plot(x = 'Year', y = ['Household Disposable Income Annual Growth Rate (%)', 'Household Spending Annual Growth Rate (%)'])"
   ]
  },
  {
   "cell_type": "code",
   "execution_count": 10,
   "metadata": {},
   "outputs": [
    {
     "data": {
      "text/plain": [
       "<matplotlib.axes._subplots.AxesSubplot at 0x7f8e4fbb1510>"
      ]
     },
     "execution_count": 10,
     "metadata": {},
     "output_type": "execute_result"
    },
    {
     "data": {
      "image/png": "[encoded data removed]",
      "text/plain": [
       "<Figure size 432x288 with 1 Axes>"
      ]
     },
     "metadata": {
      "needs_background": "light"
     },
     "output_type": "display_data"
    }
   ],
   "source": [
    "#Plot Household Savings\n",
    "Econ.plot(x = 'Year', y = 'Household Savings (% of Household Disposable Income)')"
   ]
  },
  {
   "cell_type": "code",
   "execution_count": 13,
   "metadata": {},
   "outputs": [
    {
     "data": {
      "text/plain": [
       "<matplotlib.axes._subplots.AxesSubplot at 0x7f8e50acc610>"
      ]
     },
     "execution_count": 13,
     "metadata": {},
     "output_type": "execute_result"
    },
    {
     "data": {
      "image/png": "[encoded data removed]",
      "text/plain": [
       "<Figure size 432x288 with 1 Axes>"
      ]
     },
     "metadata": {
      "needs_background": "light"
     },
     "output_type": "display_data"
    }
   ],
   "source": [
    "#Plot Household Net Worth and Household Debt\n",
    "Econ.plot(x = 'Year', y = ['Household Net Worth (% of Household Disposable Income)', 'Household Debt (% of Household Disposable Income)'])"
   ]
  },
  {
   "cell_type": "code",
   "execution_count": 25,
   "metadata": {},
   "outputs": [
    {
     "data": {
      "text/html": [
       "<div>\n",
       "<style scoped>\n",
       "    .dataframe tbody tr th:only-of-type {\n",
       "        vertical-align: middle;\n",
       "    }\n",
       "\n",
       "    .dataframe tbody tr th {\n",
       "        vertical-align: top;\n",
       "    }\n",
       "\n",
       "    .dataframe thead th {\n",
       "        text-align: right;\n",
       "    }\n",
       "</style>\n",
       "<table border=\"1\" class=\"dataframe\">\n",
       "  <thead>\n",
       "    <tr style=\"text-align: right;\">\n",
       "      <th></th>\n",
       "      <th>Year</th>\n",
       "      <th>Number of Marriages</th>\n",
       "      <th>Marriage Rate (Per 1,000 Population)</th>\n",
       "      <th>Number of Divorces</th>\n",
       "      <th>Divorce Rate (Per 1,000 Population)</th>\n",
       "    </tr>\n",
       "  </thead>\n",
       "  <tbody>\n",
       "    <tr>\n",
       "      <th>0</th>\n",
       "      <td>2008</td>\n",
       "      <td>2157000</td>\n",
       "      <td>7.1</td>\n",
       "      <td>844000</td>\n",
       "      <td>3.5</td>\n",
       "    </tr>\n",
       "    <tr>\n",
       "      <th>1</th>\n",
       "      <td>2009</td>\n",
       "      <td>2080000</td>\n",
       "      <td>6.8</td>\n",
       "      <td>840000</td>\n",
       "      <td>3.5</td>\n",
       "    </tr>\n",
       "    <tr>\n",
       "      <th>2</th>\n",
       "      <td>2010</td>\n",
       "      <td>2096000</td>\n",
       "      <td>6.8</td>\n",
       "      <td>872000</td>\n",
       "      <td>3.6</td>\n",
       "    </tr>\n",
       "    <tr>\n",
       "      <th>3</th>\n",
       "      <td>2011</td>\n",
       "      <td>2118000</td>\n",
       "      <td>6.8</td>\n",
       "      <td>877000</td>\n",
       "      <td>3.6</td>\n",
       "    </tr>\n",
       "    <tr>\n",
       "      <th>4</th>\n",
       "      <td>2012</td>\n",
       "      <td>2131000</td>\n",
       "      <td>6.8</td>\n",
       "      <td>851000</td>\n",
       "      <td>3.4</td>\n",
       "    </tr>\n",
       "    <tr>\n",
       "      <th>5</th>\n",
       "      <td>2013</td>\n",
       "      <td>2081301</td>\n",
       "      <td>6.8</td>\n",
       "      <td>832157</td>\n",
       "      <td>3.3</td>\n",
       "    </tr>\n",
       "    <tr>\n",
       "      <th>6</th>\n",
       "      <td>2014</td>\n",
       "      <td>2140272</td>\n",
       "      <td>6.9</td>\n",
       "      <td>813862</td>\n",
       "      <td>3.2</td>\n",
       "    </tr>\n",
       "    <tr>\n",
       "      <th>7</th>\n",
       "      <td>2015</td>\n",
       "      <td>2221579</td>\n",
       "      <td>6.9</td>\n",
       "      <td>800909</td>\n",
       "      <td>3.1</td>\n",
       "    </tr>\n",
       "    <tr>\n",
       "      <th>8</th>\n",
       "      <td>2016</td>\n",
       "      <td>2251411</td>\n",
       "      <td>7.0</td>\n",
       "      <td>776288</td>\n",
       "      <td>3.0</td>\n",
       "    </tr>\n",
       "    <tr>\n",
       "      <th>9</th>\n",
       "      <td>2017</td>\n",
       "      <td>2236496</td>\n",
       "      <td>6.9</td>\n",
       "      <td>787251</td>\n",
       "      <td>2.9</td>\n",
       "    </tr>\n",
       "    <tr>\n",
       "      <th>10</th>\n",
       "      <td>2018</td>\n",
       "      <td>2132853</td>\n",
       "      <td>6.5</td>\n",
       "      <td>782038</td>\n",
       "      <td>2.9</td>\n",
       "    </tr>\n",
       "  </tbody>\n",
       "</table>\n",
       "</div>"
      ],
      "text/plain": [
       "    Year  Number of Marriages  Marriage Rate (Per 1,000 Population)  \\\n",
       "0   2008              2157000                                   7.1   \n",
       "1   2009              2080000                                   6.8   \n",
       "2   2010              2096000                                   6.8   \n",
       "3   2011              2118000                                   6.8   \n",
       "4   2012              2131000                                   6.8   \n",
       "5   2013              2081301                                   6.8   \n",
       "6   2014              2140272                                   6.9   \n",
       "7   2015              2221579                                   6.9   \n",
       "8   2016              2251411                                   7.0   \n",
       "9   2017              2236496                                   6.9   \n",
       "10  2018              2132853                                   6.5   \n",
       "\n",
       "    Number of Divorces  Divorce Rate (Per 1,000 Population)  \n",
       "0               844000                                  3.5  \n",
       "1               840000                                  3.5  \n",
       "2               872000                                  3.6  \n",
       "3               877000                                  3.6  \n",
       "4               851000                                  3.4  \n",
       "5               832157                                  3.3  \n",
       "6               813862                                  3.2  \n",
       "7               800909                                  3.1  \n",
       "8               776288                                  3.0  \n",
       "9               787251                                  2.9  \n",
       "10              782038                                  2.9  "
      ]
     },
     "execution_count": 25,
     "metadata": {},
     "output_type": "execute_result"
    }
   ],
   "source": [
    "Marriage"
   ]
  },
  {
   "cell_type": "code",
   "execution_count": 26,
   "metadata": {},
   "outputs": [
    {
     "data": {
      "text/html": [
       "<div>\n",
       "<style scoped>\n",
       "    .dataframe tbody tr th:only-of-type {\n",
       "        vertical-align: middle;\n",
       "    }\n",
       "\n",
       "    .dataframe tbody tr th {\n",
       "        vertical-align: top;\n",
       "    }\n",
       "\n",
       "    .dataframe thead th {\n",
       "        text-align: right;\n",
       "    }\n",
       "</style>\n",
       "<table border=\"1\" class=\"dataframe\">\n",
       "  <thead>\n",
       "    <tr style=\"text-align: right;\">\n",
       "      <th></th>\n",
       "      <th>Year</th>\n",
       "      <th>Household Disposable Income Annual Growth Rate (%)</th>\n",
       "      <th>Household Savings (% of Household Disposable Income)</th>\n",
       "      <th>Household Net Worth (% of Household Disposable Income)</th>\n",
       "      <th>Household Debt (% of Household Disposable Income)</th>\n",
       "      <th>Household Spending Annual Growth Rate (%)</th>\n",
       "    </tr>\n",
       "  </thead>\n",
       "  <tbody>\n",
       "    <tr>\n",
       "      <th>0</th>\n",
       "      <td>2008</td>\n",
       "      <td>1.157766</td>\n",
       "      <td>5.179323</td>\n",
       "      <td>467.9560</td>\n",
       "      <td>136.8502</td>\n",
       "      <td>-0.212023</td>\n",
       "    </tr>\n",
       "    <tr>\n",
       "      <th>1</th>\n",
       "      <td>2009</td>\n",
       "      <td>0.222075</td>\n",
       "      <td>6.342366</td>\n",
       "      <td>493.9625</td>\n",
       "      <td>135.8499</td>\n",
       "      <td>-1.254310</td>\n",
       "    </tr>\n",
       "    <tr>\n",
       "      <th>2</th>\n",
       "      <td>2010</td>\n",
       "      <td>1.864026</td>\n",
       "      <td>6.780292</td>\n",
       "      <td>519.3878</td>\n",
       "      <td>128.6913</td>\n",
       "      <td>1.749623</td>\n",
       "    </tr>\n",
       "    <tr>\n",
       "      <th>3</th>\n",
       "      <td>2011</td>\n",
       "      <td>2.134767</td>\n",
       "      <td>7.395789</td>\n",
       "      <td>507.8844</td>\n",
       "      <td>121.4203</td>\n",
       "      <td>1.887169</td>\n",
       "    </tr>\n",
       "    <tr>\n",
       "      <th>4</th>\n",
       "      <td>2012</td>\n",
       "      <td>3.153628</td>\n",
       "      <td>9.142739</td>\n",
       "      <td>521.7365</td>\n",
       "      <td>114.6946</td>\n",
       "      <td>1.503002</td>\n",
       "    </tr>\n",
       "    <tr>\n",
       "      <th>5</th>\n",
       "      <td>2013</td>\n",
       "      <td>-1.140854</td>\n",
       "      <td>6.612686</td>\n",
       "      <td>584.7844</td>\n",
       "      <td>116.4729</td>\n",
       "      <td>1.454063</td>\n",
       "    </tr>\n",
       "    <tr>\n",
       "      <th>6</th>\n",
       "      <td>2014</td>\n",
       "      <td>3.768865</td>\n",
       "      <td>7.587876</td>\n",
       "      <td>594.9745</td>\n",
       "      <td>111.4956</td>\n",
       "      <td>2.960143</td>\n",
       "    </tr>\n",
       "    <tr>\n",
       "      <th>7</th>\n",
       "      <td>2015</td>\n",
       "      <td>3.932135</td>\n",
       "      <td>7.865943</td>\n",
       "      <td>583.4117</td>\n",
       "      <td>108.3960</td>\n",
       "      <td>3.799628</td>\n",
       "    </tr>\n",
       "    <tr>\n",
       "      <th>8</th>\n",
       "      <td>2016</td>\n",
       "      <td>1.865147</td>\n",
       "      <td>6.994919</td>\n",
       "      <td>598.8745</td>\n",
       "      <td>108.5050</td>\n",
       "      <td>2.767835</td>\n",
       "    </tr>\n",
       "    <tr>\n",
       "      <th>9</th>\n",
       "      <td>2017</td>\n",
       "      <td>2.657199</td>\n",
       "      <td>7.187550</td>\n",
       "      <td>623.9714</td>\n",
       "      <td>107.5126</td>\n",
       "      <td>2.630026</td>\n",
       "    </tr>\n",
       "    <tr>\n",
       "      <th>10</th>\n",
       "      <td>2018</td>\n",
       "      <td>3.603475</td>\n",
       "      <td>7.958363</td>\n",
       "      <td>588.2061</td>\n",
       "      <td>104.5797</td>\n",
       "      <td>2.708976</td>\n",
       "    </tr>\n",
       "  </tbody>\n",
       "</table>\n",
       "</div>"
      ],
      "text/plain": [
       "    Year  Household Disposable Income Annual Growth Rate (%)  \\\n",
       "0   2008                                           1.157766    \n",
       "1   2009                                           0.222075    \n",
       "2   2010                                           1.864026    \n",
       "3   2011                                           2.134767    \n",
       "4   2012                                           3.153628    \n",
       "5   2013                                          -1.140854    \n",
       "6   2014                                           3.768865    \n",
       "7   2015                                           3.932135    \n",
       "8   2016                                           1.865147    \n",
       "9   2017                                           2.657199    \n",
       "10  2018                                           3.603475    \n",
       "\n",
       "    Household Savings (% of Household Disposable Income)  \\\n",
       "0                                            5.179323      \n",
       "1                                            6.342366      \n",
       "2                                            6.780292      \n",
       "3                                            7.395789      \n",
       "4                                            9.142739      \n",
       "5                                            6.612686      \n",
       "6                                            7.587876      \n",
       "7                                            7.865943      \n",
       "8                                            6.994919      \n",
       "9                                            7.187550      \n",
       "10                                           7.958363      \n",
       "\n",
       "    Household Net Worth (% of Household Disposable Income)  \\\n",
       "0                                            467.9560        \n",
       "1                                            493.9625        \n",
       "2                                            519.3878        \n",
       "3                                            507.8844        \n",
       "4                                            521.7365        \n",
       "5                                            584.7844        \n",
       "6                                            594.9745        \n",
       "7                                            583.4117        \n",
       "8                                            598.8745        \n",
       "9                                            623.9714        \n",
       "10                                           588.2061        \n",
       "\n",
       "    Household Debt (% of Household Disposable Income)  \\\n",
       "0                                            136.8502   \n",
       "1                                            135.8499   \n",
       "2                                            128.6913   \n",
       "3                                            121.4203   \n",
       "4                                            114.6946   \n",
       "5                                            116.4729   \n",
       "6                                            111.4956   \n",
       "7                                            108.3960   \n",
       "8                                            108.5050   \n",
       "9                                            107.5126   \n",
       "10                                           104.5797   \n",
       "\n",
       "    Household Spending Annual Growth Rate (%)  \n",
       "0                                   -0.212023  \n",
       "1                                   -1.254310  \n",
       "2                                    1.749623  \n",
       "3                                    1.887169  \n",
       "4                                    1.503002  \n",
       "5                                    1.454063  \n",
       "6                                    2.960143  \n",
       "7                                    3.799628  \n",
       "8                                    2.767835  \n",
       "9                                    2.630026  \n",
       "10                                   2.708976  "
      ]
     },
     "execution_count": 26,
     "metadata": {},
     "output_type": "execute_result"
    }
   ],
   "source": [
    "Econ"
   ]
  },
  {
   "cell_type": "code",
   "execution_count": 30,
   "metadata": {},
   "outputs": [
    {
     "name": "stdout",
     "output_type": "stream",
     "text": [
      "The average annual growth rate of household disposable income is 2.11% from 2008-2018\n"
     ]
    }
   ],
   "source": [
    "DI = Econ['Household Disposable Income Annual Growth Rate (%)']\n",
    "print(\"The average annual growth rate of household disposable income is \" + str(round(DI.mean(), 2)) + \"% from 2008-2018\")"
   ]
  },
  {
   "cell_type": "code",
   "execution_count": 41,
   "metadata": {},
   "outputs": [
    {
     "name": "stdout",
     "output_type": "stream",
     "text": [
      "The household savings has increased from 5.18% to 7.96%\n"
     ]
    }
   ],
   "source": [
    "Savings = Econ['Household Savings (% of Household Disposable Income)']\n",
    "print(\"The household savings has increased from \" + str(round(Savings[0], 2)) + \"% to \" \n",
    "      + str(round(Savings[10], 2)) + \"%\")"
   ]
  },
  {
   "cell_type": "code",
   "execution_count": 44,
   "metadata": {},
   "outputs": [
    {
     "name": "stdout",
     "output_type": "stream",
     "text": [
      "The household spending growth rate in 2009 was -0.21%\n",
      "The household spending growth rate in 2018 was 2.71%\n"
     ]
    }
   ],
   "source": [
    "#Select years 2009 and 2018 where there was a noticable size drop in marriage rate.\n",
    "Spending = Econ['Household Spending Annual Growth Rate (%)']\n",
    "print(\"The household spending growth rate in 2009 was \" + str(round(Spending[0], 2)) + \"%\")\n",
    "print(\"The household spending growth rate in 2018 was \" + str(round(Spending[10], 2)) + \"%\")"
   ]
  },
  {
   "cell_type": "code",
   "execution_count": 45,
   "metadata": {},
   "outputs": [
    {
     "name": "stdout",
     "output_type": "stream",
     "text": [
      "The divorce rate has decreased from 3.5% to 2.9%\n"
     ]
    }
   ],
   "source": [
    "#Now focus on divorce rate\n",
    "Divorce_rate = Marriage['Divorce Rate (Per 1,000 Population)']\n",
    "print(\"The divorce rate has decreased from \" + str(round(Divorce_rate[0], 2)) + \"% to \" \n",
    "      + str(round(Divorce_rate[10], 2)) + \"%\")"
   ]
  },
  {
   "cell_type": "code",
   "execution_count": null,
   "metadata": {},
   "outputs": [],
   "source": []
  }
 ],
 "metadata": {
  "kernelspec": {
   "display_name": "Python 3",
   "language": "python",
   "name": "python3"
  },
  "language_info": {
   "codemirror_mode": {
    "name": "ipython",
    "version": 3
   },
   "file_extension": ".py",
   "mimetype": "text/x-python",
   "name": "python",
   "nbconvert_exporter": "python",
   "pygments_lexer": "ipython3",
   "version": "3.7.6"
  }
 },
 "nbformat": 4,
 "nbformat_minor": 4
}
